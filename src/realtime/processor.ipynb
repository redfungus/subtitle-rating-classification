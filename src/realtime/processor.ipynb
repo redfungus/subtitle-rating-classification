{
 "cells": [
  {
   "cell_type": "markdown",
   "metadata": {},
   "source": [
    "# Processor application\n",
    "\n",
    "This notebook is the heart of the application which receives the content through a Kafka stream and returns the age rating. \n",
    "\n",
    "After receiving the data the model is used to predict the rating of that part of the text and return send a message with the rating so another Kafka consumer can use it."
   ]
  },
  {
   "cell_type": "code",
   "execution_count": 33,
   "metadata": {},
   "outputs": [],
   "source": [
    "# Add common folder to pythonpath\n",
    "import sys\n",
    "import numpy as np\n",
    "sys.path\n",
    "sys.path.append('/home/jovyan/work/common')"
   ]
  },
  {
   "cell_type": "code",
   "execution_count": 34,
   "metadata": {},
   "outputs": [],
   "source": [
    "from sklearn.feature_extraction.text import HashingVectorizer"
   ]
  },
  {
   "cell_type": "code",
   "execution_count": 35,
   "metadata": {},
   "outputs": [],
   "source": [
    "import os\n",
    "import json\n",
    "os.environ['PYSPARK_SUBMIT_ARGS'] = '--packages org.apache.spark:spark-streaming-kafka-0-8_2.11:2.0.2 pyspark-shell'"
   ]
  },
  {
   "cell_type": "code",
   "execution_count": 36,
   "metadata": {},
   "outputs": [],
   "source": [
    "from pyspark import SparkContext\n",
    "from pyspark.streaming import StreamingContext\n",
    "from pyspark.streaming.kafka import KafkaUtils\n",
    "from kafka import KafkaProducer"
   ]
  },
  {
   "cell_type": "code",
   "execution_count": 37,
   "metadata": {},
   "outputs": [],
   "source": [
    "APP_NAME = \"SubtitleRatingProcessor\"\n",
    "\n",
    "try:\n",
    "    sc.stop()\n",
    "    ssc.stop()\n",
    "except:\n",
    "    pass\n",
    "    \n",
    "sc = SparkContext(appName=APP_NAME)\n",
    "sc.setLogLevel(\"WARN\")\n",
    "ssc = StreamingContext(sc, 5)\n",
    "sc.addFile(\"/home/jovyan/work/common/preprocessor.py\")"
   ]
  },
  {
   "cell_type": "code",
   "execution_count": 38,
   "metadata": {},
   "outputs": [],
   "source": [
    "kafkaStream = KafkaUtils.createDirectStream(\n",
    "    ssc,\n",
    "    ['asd'],\n",
    "    {\"metadata.broker.list\": 'kafka:9092'}\n",
    ")"
   ]
  },
  {
   "cell_type": "code",
   "execution_count": 39,
   "metadata": {},
   "outputs": [],
   "source": [
    "parsed = kafkaStream"
   ]
  },
  {
   "cell_type": "code",
   "execution_count": 40,
   "metadata": {},
   "outputs": [],
   "source": [
    "import pickle\n",
    "\n",
    "filename = 'model.sav'\n",
    "loaded_model = pickle.load(open(filename, 'rb'))\n",
    "\n",
    "def message_to_vector(msg):\n",
    "    text = msg[1]\n",
    "    vectorizer = HashingVectorizer(n_features=2**4)\n",
    "    X = vectorizer.fit_transform([text])\n",
    "    return X\n",
    "\n",
    "def vector2pred(msg):\n",
    "    # return model.predict(msg)\n",
    "    result = loaded_model.predict(msg.reshape(1, -1))\n",
    "    print(result)\n",
    "    return result\n",
    "#     return np.average(msg.todense())\n",
    "    \n",
    "def sendPred(msg):\n",
    "    producer = KafkaProducer(bootstrap_servers='kafka')\n",
    "    producer.send(\"asd1\", f\"{msg}\".encode('utf-8'))\n",
    "    producer.flush()\n",
    "    return msg\n",
    "\n",
    "parsed.map(message_to_vector).map(vector2pred).map(sendPred).pprint()"
   ]
  },
  {
   "cell_type": "code",
   "execution_count": null,
   "metadata": {},
   "outputs": [],
   "source": [
    "ssc.start()\n",
    "ssc.awaitTermination()"
   ]
  },
  {
   "cell_type": "code",
   "execution_count": 22,
   "metadata": {},
   "outputs": [],
   "source": [
    "ssc.stop()\n",
    "sc.stop()"
   ]
  }
 ],
 "metadata": {
  "kernelspec": {
   "display_name": "Python 3",
   "language": "python",
   "name": "python3"
  },
  "language_info": {
   "codemirror_mode": {
    "name": "ipython",
    "version": 3
   },
   "file_extension": ".py",
   "mimetype": "text/x-python",
   "name": "python",
   "nbconvert_exporter": "python",
   "pygments_lexer": "ipython3",
   "version": "3.7.3"
  }
 },
 "nbformat": 4,
 "nbformat_minor": 4
}
