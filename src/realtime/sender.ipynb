{
 "cells": [
  {
   "cell_type": "markdown",
   "metadata": {},
   "source": [
    "# Kafka Producer\n",
    "\n",
    "An example of this producer in a real life application will be a tv set that is showing a specific content and sends this data to a processor application which will respond with the age rating. \n",
    "Probably, the content will be sent earlier than it is shown on the tv to get the age rating before hand.\n",
    "\n",
    "The `sample_subtitle.srt` can be seen of an example of a movie being shown on the tv set. "
   ]
  },
  {
   "cell_type": "code",
   "execution_count": 15,
   "metadata": {},
   "outputs": [],
   "source": [
    "# Add common folder to pythonpath\n",
    "import sys\n",
    "sys.path\n",
    "sys.path.append('/home/jovyan/work/common')"
   ]
  },
  {
   "cell_type": "code",
   "execution_count": 16,
   "metadata": {},
   "outputs": [],
   "source": [
    "# Variable to choose a movie"
   ]
  },
  {
   "cell_type": "code",
   "execution_count": 17,
   "metadata": {},
   "outputs": [],
   "source": [
    "# Get movie subtitle\n",
    "with open(\"sample_subtitle.srt\", \"r\") as f:\n",
    "    sub = f.read()"
   ]
  },
  {
   "cell_type": "code",
   "execution_count": 18,
   "metadata": {},
   "outputs": [],
   "source": [
    "# parse subtitle into bits\n",
    "from preprocessor import substring2fragments\n",
    "samples = substring2fragments(sub, with_time=True)"
   ]
  },
  {
   "cell_type": "code",
   "execution_count": 19,
   "metadata": {},
   "outputs": [],
   "source": [
    "from kafka import KafkaProducer"
   ]
  },
  {
   "cell_type": "code",
   "execution_count": 20,
   "metadata": {},
   "outputs": [],
   "source": [
    "producer = KafkaProducer(bootstrap_servers='kafka')"
   ]
  },
  {
   "cell_type": "code",
   "execution_count": 21,
   "metadata": {},
   "outputs": [
    {
     "name": "stdout",
     "output_type": "stream",
     "text": [
      "sending one 0:00:06.350000\n",
      "sending one 0:00:09.586000\n",
      "sending one 0:00:11.855000\n",
      "sending one 0:00:13.824000\n",
      "sending one 0:00:16.994000\n",
      "sending one 0:00:19.029000\n",
      "sending one 0:00:20.497000\n",
      "sending one 0:00:22.099000\n",
      "sending one 0:00:24.001000\n",
      "sending one 0:00:25.602000\n",
      "sending one 0:00:27.504000\n",
      "sending one 0:00:29.406000\n",
      "sending one 0:00:32.376000\n",
      "sending one 0:00:35.078000\n",
      "sending one 0:00:39.016000\n",
      "sending one 0:00:43.020000\n",
      "sending one 0:00:45.489000\n",
      "sending one 0:00:47.324000\n",
      "sending one 0:00:51.128000\n",
      "sending one 0:00:52.262000\n",
      "sending one 0:00:54.164000\n",
      "sending one 0:00:56.566000\n",
      "sending one 0:00:58.435000\n",
      "sending one 0:01:00.304000\n",
      "sending one 0:01:06.310000\n",
      "sending one 0:01:08.378000\n",
      "sending one 0:01:10.113000\n",
      "sending one 0:01:11.348000\n",
      "sending one 0:01:13.283000\n",
      "sending one 0:01:16.320000\n",
      "sending one 0:01:19.056000\n",
      "sending one 0:01:21.024000\n",
      "sending one 0:01:23.660000\n",
      "sending one 0:01:26.229000\n",
      "sending one 0:01:29.600000\n",
      "sending one 0:01:31.234000\n"
     ]
    },
    {
     "ename": "KeyboardInterrupt",
     "evalue": "",
     "output_type": "error",
     "traceback": [
      "\u001b[0;31m---------------------------------------------------------------------------\u001b[0m",
      "\u001b[0;31mKeyboardInterrupt\u001b[0m                         Traceback (most recent call last)",
      "\u001b[0;32m<ipython-input-21-01e99028b4d5>\u001b[0m in \u001b[0;36m<module>\u001b[0;34m\u001b[0m\n\u001b[1;32m     15\u001b[0m         \u001b[0msent\u001b[0m \u001b[0;34m+=\u001b[0m \u001b[0;36m1\u001b[0m\u001b[0;34m\u001b[0m\u001b[0;34m\u001b[0m\u001b[0m\n\u001b[1;32m     16\u001b[0m     \u001b[0;32melse\u001b[0m\u001b[0;34m:\u001b[0m\u001b[0;34m\u001b[0m\u001b[0;34m\u001b[0m\u001b[0m\n\u001b[0;32m---> 17\u001b[0;31m         \u001b[0mtime\u001b[0m\u001b[0;34m.\u001b[0m\u001b[0msleep\u001b[0m\u001b[0;34m(\u001b[0m\u001b[0;36m1\u001b[0m\u001b[0;34m)\u001b[0m\u001b[0;34m\u001b[0m\u001b[0;34m\u001b[0m\u001b[0m\n\u001b[0m",
      "\u001b[0;31mKeyboardInterrupt\u001b[0m: "
     ]
    }
   ],
   "source": [
    "import time\n",
    "sent = 0\n",
    "start_time = time.time()\n",
    "speed = 1\n",
    "while True:\n",
    "    if sent >= len(samples):\n",
    "        break\n",
    "\n",
    "    now = time.time()\n",
    "    next_sub_start, next_sub = samples[sent]\n",
    "    if next_sub_start.total_seconds() < now - start_time:\n",
    "        print(\"sending one\", next_sub_start)\n",
    "        producer.send(\"asd\", next_sub.encode(\"utf-8\"))\n",
    "        producer.flush()\n",
    "        sent += 1\n",
    "    else:\n",
    "        time.sleep(1)"
   ]
  },
  {
   "cell_type": "code",
   "execution_count": null,
   "metadata": {},
   "outputs": [],
   "source": []
  }
 ],
 "metadata": {
  "kernelspec": {
   "display_name": "Python 3",
   "language": "python",
   "name": "python3"
  },
  "language_info": {
   "codemirror_mode": {
    "name": "ipython",
    "version": 3
   },
   "file_extension": ".py",
   "mimetype": "text/x-python",
   "name": "python",
   "nbconvert_exporter": "python",
   "pygments_lexer": "ipython3",
   "version": "3.7.3"
  }
 },
 "nbformat": 4,
 "nbformat_minor": 4
}
